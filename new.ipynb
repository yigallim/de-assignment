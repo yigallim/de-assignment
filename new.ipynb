{
 "cells": [
  {
   "cell_type": "code",
   "execution_count": 1,
   "id": "1d90cea5-5167-4097-910e-b968c3525c19",
   "metadata": {
    "editable": true,
    "slideshow": {
     "slide_type": ""
    },
    "tags": []
   },
   "outputs": [
    {
     "name": "stdout",
     "output_type": "stream",
     "text": [
      "Fetched 500 article titles.\n",
      "Fetching 500 articles content.\n",
      "\n",
      "|██████████████████████████████████████████████████| 100% Elapsed: 0m 0s ETA: 0m 0s\n",
      "\n",
      "Summary:\n",
      "Articles scraped from Wikipedia: 1\n",
      "Articles retrieved from cache: 499\n",
      "\n",
      "Storing tokenized words count using Spark and reduceByKey.\n"
     ]
    },
    {
     "name": "stderr",
     "output_type": "stream",
     "text": [
      "24/12/15 16:59:44 WARN Utils: Your hostname, LAPTOP-71RD6ECD. resolves to a loopback address: 127.0.1.1; using 172.29.94.253 instead (on interface eth0)\n",
      "24/12/15 16:59:44 WARN Utils: Set SPARK_LOCAL_IP if you need to bind to another address\n",
      "Setting default log level to \"WARN\".\n",
      "To adjust logging level use sc.setLogLevel(newLevel). For SparkR, use setLogLevel(newLevel).\n",
      "24/12/15 16:59:46 WARN NativeCodeLoader: Unable to load native-hadoop library for your platform... using builtin-java classes where applicable\n",
      "24/12/15 16:59:49 WARN TaskSetManager: Stage 0 contains a task of very large size (11720 KiB). The maximum recommended task size is 1000 KiB.\n",
      "                                                                                \r"
     ]
    },
    {
     "name": "stdout",
     "output_type": "stream",
     "text": [
      "Summary:\n",
      "Total unique words stored: 11655\n"
     ]
    }
   ],
   "source": [
    "from classes.pipeline.wikipedia_pipeline import WikipediaPipeline\n",
    "\n",
    "# Search Terms:\n",
    "# history, science, economics, art, music, sports\n",
    "\n",
    "if __name__ == \"__main__\":\n",
    "    pipeline = WikipediaPipeline(\n",
    "        search_term=\"sports\", limit=500, word_count_article_limit=10000, use_cache=True\n",
    "    )\n",
    "    pipeline.run()"
   ]
  },
  {
   "cell_type": "code",
   "execution_count": 3,
   "id": "c3611416-86c9-443b-887b-a71a6f2362e5",
   "metadata": {},
   "outputs": [
    {
     "name": "stdout",
     "output_type": "stream",
     "text": [
      "Total words: 11655\n",
      "Cached words (skipped): 11655\n",
      "Words to scrape: 0\n",
      "\n",
      "|██████████████████████████████████████████████████| 100% Elapsed: 0m 0s ETA: 0m 0s\n",
      "\n",
      "Summary:\n",
      "Words scraped: 0\n",
      "Words found (with content): 0\n",
      "Words not found (no valid content): 0\n",
      "\n"
     ]
    }
   ],
   "source": [
    "from classes.cache.word_count_cache import WordCountCache\n",
    "from classes.pipeline.prpm_pipeline import PRPMPipeline\n",
    "\n",
    "if __name__ == \"__main__\":\n",
    "    word_count_cache = WordCountCache()\n",
    "    all_words = list(word_count_cache.get_all_word_counts().keys())\n",
    "    pipeline = PRPMPipeline(words=all_words, use_cache=True)\n",
    "    pipeline.run()"
   ]
  },
  {
   "cell_type": "code",
   "execution_count": null,
   "id": "4e86ca26-4e00-48c4-aae2-3b7008525c5a",
   "metadata": {},
   "outputs": [],
   "source": []
  }
 ],
 "metadata": {
  "kernelspec": {
   "display_name": "de-ass",
   "language": "python",
   "name": "de-ass"
  },
  "language_info": {
   "codemirror_mode": {
    "name": "ipython",
    "version": 3
   },
   "file_extension": ".py",
   "mimetype": "text/x-python",
   "name": "python",
   "nbconvert_exporter": "python",
   "pygments_lexer": "ipython3",
   "version": "3.10.12"
  }
 },
 "nbformat": 4,
 "nbformat_minor": 5
}
