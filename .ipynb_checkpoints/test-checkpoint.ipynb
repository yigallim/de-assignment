{
 "cells": [
  {
   "cell_type": "code",
   "execution_count": 6,
   "id": "12777483-8a07-4d75-83ee-3b70d9500bbb",
   "metadata": {},
   "outputs": [
    {
     "name": "stderr",
     "output_type": "stream",
     "text": [
      "[nltk_data] Downloading package vader_lexicon to\n",
      "[nltk_data]     /home/student/nltk_data...\n",
      "[nltk_data]   Package vader_lexicon is already up-to-date!\n"
     ]
    },
    {
     "name": "stdout",
     "output_type": "stream",
     "text": [
      "Translated: pig\n",
      "Phrase: 'babi'\n",
      "Score: 0.0, Sentiment Type: Neutral\n"
     ]
    }
   ],
   "source": [
    "from googletrans import Translator\n",
    "from nltk.sentiment import SentimentIntensityAnalyzer\n",
    "import nltk\n",
    "\n",
    "nltk.download('vader_lexicon')\n",
    "\n",
    "translator = Translator()\n",
    "sia = SentimentIntensityAnalyzer()\n",
    "\n",
    "def getSentimentScoreMalay(phrase):\n",
    "    translated = translator.translate(phrase, src=\"ms\", dest=\"en\").text\n",
    "    print(f\"Translated: {translated}\")\n",
    "    sentiment = sia.polarity_scores(translated)\n",
    "    return sentiment['compound']\n",
    "\n",
    "def getSentimentType(score):\n",
    "    if score >= 0.05:\n",
    "        return \"Positive\"\n",
    "    elif score <= -0.05:\n",
    "        return \"Negative\"\n",
    "    else:\n",
    "        return \"Neutral\"\n",
    "\n",
    "phrase = \"babi\"\n",
    "\n",
    "score = getSentimentScoreMalay(phrase)\n",
    "sentiment_type = getSentimentType(score)\n",
    "\n",
    "print(f\"Score: {score}, Sentiment Type: {sentiment_type}\")"
   ]
  }
 ],
 "metadata": {
  "kernelspec": {
   "display_name": "de-ass",
   "language": "python",
   "name": "de-ass"
  },
  "language_info": {
   "codemirror_mode": {
    "name": "ipython",
    "version": 3
   },
   "file_extension": ".py",
   "mimetype": "text/x-python",
   "name": "python",
   "nbconvert_exporter": "python",
   "pygments_lexer": "ipython3",
   "version": "3.10.12"
  }
 },
 "nbformat": 4,
 "nbformat_minor": 5
}
