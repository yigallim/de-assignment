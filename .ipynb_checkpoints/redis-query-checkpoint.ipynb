{
 "cells": [
  {
   "cell_type": "code",
   "execution_count": 1,
   "id": "468ce3b7-e2e6-4989-8672-fcacaff3ce4f",
   "metadata": {},
   "outputs": [],
   "source": [
    "from classes.utils.redis_queries import RedisQueries\n",
    "redis_queries = RedisQueries()"
   ]
  },
  {
   "cell_type": "code",
   "execution_count": 2,
   "id": "676ee260-313e-456c-b1ab-6e142f02a387",
   "metadata": {},
   "outputs": [
    {
     "name": "stdout",
     "output_type": "stream",
     "text": [
      "Redis is currently using approximately 180.76 MB of memory.\n"
     ]
    }
   ],
   "source": [
    "redis_queries.show_memory_usage()"
   ]
  },
  {
   "cell_type": "code",
   "execution_count": 3,
   "id": "f9921436-c168-4568-95be-5d89e1d91d84",
   "metadata": {},
   "outputs": [
    {
     "name": "stdout",
     "output_type": "stream",
     "text": [
      "Existing keys in Redis:\n",
      "word_count\n",
      "prpm_words_html\n",
      "wikipedia_articles_html\n",
      "dictionary_api_cache\n"
     ]
    }
   ],
   "source": [
    "redis_queries.show_all_keys()"
   ]
  },
  {
   "cell_type": "code",
   "execution_count": 3,
   "id": "04c73282-3155-437d-8868-18348878d3f5",
   "metadata": {},
   "outputs": [
    {
     "name": "stdin",
     "output_type": "stream",
     "text": [
      "Are you sure you want to delete the entire Redis database? (yes/no):  no\n"
     ]
    },
    {
     "name": "stdout",
     "output_type": "stream",
     "text": [
      "Operation canceled.\n"
     ]
    }
   ],
   "source": [
    "redis_queries.delete_database()"
   ]
  },
  {
   "cell_type": "code",
   "execution_count": 4,
   "id": "f25ac208-32d0-43fa-a536-41137f79e4ad",
   "metadata": {},
   "outputs": [
    {
     "name": "stdout",
     "output_type": "stream",
     "text": [
      "Total words count: 12058\n",
      "Top 50 entries from the 'word_count' hash:\n",
      "1. pada: 31453\n",
      "2. yang: 27159\n",
      "3. dan: 26422\n",
      "4. the: 21654\n",
      "5. dengan: 16559\n",
      "6. dicapai: 14153\n",
      "7. dalam: 13055\n",
      "8. rencana: 9937\n",
      "9. and: 9880\n",
      "10. untuk: 8077\n",
      "11. daripada: 7604\n",
      "12. bahasa: 7332\n",
      "13. ini: 6552\n",
      "14. tahun: 6301\n",
      "15. pengenalan: 6285\n",
      "16. music: 5895\n",
      "17. oleh: 5805\n",
      "18. diarkibkan: 5748\n",
      "19. sebagai: 5597\n",
      "20. dari: 5482\n",
      "21. isbn: 4901\n",
      "22. asal: 4834\n",
      "23. telah: 4504\n",
      "24. malaysia: 4489\n",
      "25. korea: 4189\n",
      "26. tidak: 3599\n",
      "27. negara: 3586\n",
      "28. com: 3496\n",
      "29. album: 3486\n",
      "30. new: 3464\n",
      "31. syarikat: 3425\n",
      "32. beliau: 3266\n",
      "33. kepada: 3213\n",
      "34. adalah: 3132\n",
      "35. chart: 3098\n",
      "36. itu: 3085\n",
      "37. juga: 3054\n",
      "38. for: 3013\n",
      "39. ialah: 2993\n",
      "40. history: 2993\n",
      "41. atau: 2982\n",
      "42. inggeris: 2913\n",
      "43. university: 2865\n",
      "44. orang: 2735\n",
      "45. mereka: 2700\n",
      "46. april: 2623\n",
      "47. lagu: 2538\n",
      "48. november: 2505\n",
      "49. satu: 2498\n",
      "50. merupakan: 2403\n"
     ]
    }
   ],
   "source": [
    "redis_queries.show_word_count_top_50()"
   ]
  },
  {
   "cell_type": "code",
   "execution_count": 16,
   "id": "89c75c1c-edc4-4ba4-a830-94edc7384091",
   "metadata": {},
   "outputs": [
    {
     "name": "stdout",
     "output_type": "stream",
     "text": [
      "Total words count: 10272\n",
      "Least 50 entries from the 'word_count' hash:\n",
      "1. peratusan: 15\n",
      "2. tambah: 15\n",
      "3. diabaikan: 15\n",
      "4. memuatkan: 15\n",
      "5. suborder: 15\n",
      "6. ahead: 15\n",
      "7. tvn: 15\n",
      "8. realism: 15\n",
      "9. seifert: 15\n",
      "10. carducci: 15\n",
      "11. camar: 15\n",
      "12. perihal: 15\n",
      "13. supercopa: 15\n",
      "14. socialists: 15\n",
      "15. bae: 15\n",
      "16. bermandat: 15\n",
      "17. bid: 15\n",
      "18. warrior: 15\n",
      "19. orkestra: 15\n",
      "20. clement: 15\n",
      "21. turns: 15\n",
      "22. vane: 15\n",
      "23. madu: 15\n",
      "24. munculnya: 15\n",
      "25. sheep: 15\n",
      "26. fujitsu: 15\n",
      "27. tersingkir: 15\n",
      "28. nicolle: 15\n",
      "29. comeback: 15\n",
      "30. option: 15\n",
      "31. samguk: 15\n",
      "32. triple: 15\n",
      "33. zen: 15\n",
      "34. kublai: 15\n",
      "35. tenteranya: 15\n",
      "36. wade: 15\n",
      "37. sovereignty: 15\n",
      "38. kegemaran: 15\n",
      "39. highlights: 15\n",
      "40. berhubungan: 15\n",
      "41. levant: 15\n",
      "42. detail: 15\n",
      "43. ajinomoto: 15\n",
      "44. patut: 15\n",
      "45. mohamaddin: 15\n",
      "46. cantik: 15\n",
      "47. haute: 15\n",
      "48. rujuk: 15\n",
      "49. marco: 15\n",
      "50. ipswich: 15\n"
     ]
    }
   ],
   "source": [
    "redis_queries.show_word_count_least_50()"
   ]
  },
  {
   "cell_type": "code",
   "execution_count": null,
   "id": "4ac39d68-9f1a-40ee-b9a7-ca1eca045215",
   "metadata": {},
   "outputs": [],
   "source": [
    "if False:\n",
    "    redis_queries.show_wikipedia_articles()"
   ]
  },
  {
   "cell_type": "code",
   "execution_count": null,
   "id": "53f65fa5-3134-4bbc-b22c-511b574d3d85",
   "metadata": {},
   "outputs": [],
   "source": [
    "if False:\n",
    "    redis_queries.show_prpm_words()"
   ]
  },
  {
   "cell_type": "code",
   "execution_count": 5,
   "id": "be016abf-5ce0-4e33-b30a-feace2fd5a44",
   "metadata": {},
   "outputs": [
    {
     "name": "stdout",
     "output_type": "stream",
     "text": [
      "Scanning for words with no content in the 'prpm_words_html' hash...\n",
      "Total words not found: 11265\n",
      "Displaying up to 20 not found words:\n",
      "1. medawar\n",
      "2. diturunkan\n",
      "3. heeger\n",
      "4. figures\n",
      "5. combattante\n",
      "6. dac\n",
      "7. poland\n",
      "8. path\n",
      "9. andriasang\n",
      "10. schreber\n",
      "11. andreas\n",
      "12. dmg\n",
      "13. glass\n",
      "14. american\n",
      "15. kendall\n",
      "16. platemys\n",
      "17. sudan\n",
      "18. microbiology\n",
      "19. stratigraphy\n",
      "20. miyazato\n",
      "...and 11245 more not found words.\n"
     ]
    }
   ],
   "source": [
    "redis_queries.show_not_found_words(limit=20)"
   ]
  },
  {
   "cell_type": "code",
   "execution_count": 8,
   "id": "71f5891c-55ad-4bb7-b2e7-7c2db03bfff5",
   "metadata": {},
   "outputs": [
    {
     "name": "stdout",
     "output_type": "stream",
     "text": [
      "Scanning for words with content in the 'prpm_words_html' hash...\n",
      "Total words found: 5542\n",
      "Displaying up to 20 found words:\n",
      "1. biasanya\n",
      "2. bekerjasama\n",
      "3. dipakai\n",
      "4. smk\n",
      "5. minum\n",
      "6. cetak\n",
      "7. mangsa\n",
      "8. kuala\n",
      "9. berbangsa\n",
      "10. reptilia\n",
      "11. radio\n",
      "12. potongan\n",
      "13. mendadak\n",
      "14. sikin\n",
      "15. televisi\n",
      "16. fao\n",
      "17. ketenteraan\n",
      "18. kementerian\n",
      "19. antropologi\n",
      "20. penjelajahan\n",
      "...and 5522 more found words.\n"
     ]
    }
   ],
   "source": [
    "redis_queries.show_found_words(limit=20)"
   ]
  },
  {
   "cell_type": "code",
   "execution_count": 7,
   "id": "9b0b2f91-e732-49e4-bcba-5c1e03ce985e",
   "metadata": {},
   "outputs": [
    {
     "name": "stdout",
     "output_type": "stream",
     "text": [
      "Scanning the 'dictionary_api_cache' hash for words with and without definitions...\n",
      "\n",
      "Total words with definitions: 4311\n",
      "Total words without definitions: 6954\n",
      "\n",
      "First 10 words with definitions:\n",
      "1. figures\n",
      "2. path\n",
      "3. glass\n",
      "4. microbiology\n",
      "5. stratigraphy\n",
      "6. wired\n",
      "7. threat\n",
      "8. gate\n",
      "9. brand\n",
      "10. shark\n",
      "\n",
      "First 10 words without definitions:\n",
      "1. medawar\n",
      "2. diturunkan\n",
      "3. heeger\n",
      "4. combattante\n",
      "5. dac\n",
      "6. andriasang\n",
      "7. schreber\n",
      "8. andreas\n",
      "9. poland\n",
      "10. dmg\n"
     ]
    }
   ],
   "source": [
    "redis_queries.show_dictionary_api_words(limit=10)"
   ]
  }
 ],
 "metadata": {
  "kernelspec": {
   "display_name": "de-ass",
   "language": "python",
   "name": "de-ass"
  },
  "language_info": {
   "codemirror_mode": {
    "name": "ipython",
    "version": 3
   },
   "file_extension": ".py",
   "mimetype": "text/x-python",
   "name": "python",
   "nbconvert_exporter": "python",
   "pygments_lexer": "ipython3",
   "version": "3.10.12"
  }
 },
 "nbformat": 4,
 "nbformat_minor": 5
}
