{
 "cells": [
  {
   "cell_type": "code",
   "execution_count": 1,
   "id": "468ce3b7-e2e6-4989-8672-fcacaff3ce4f",
   "metadata": {},
   "outputs": [
    {
     "ename": "IndentationError",
     "evalue": "expected an indented block after function definition on line 54 (redis_queries.py, line 55)",
     "output_type": "error",
     "traceback": [
      "Traceback \u001b[0;36m(most recent call last)\u001b[0m:\n",
      "\u001b[0m  File \u001b[1;32m~/de-ass/de-venv/lib/python3.10/site-packages/IPython/core/interactiveshell.py:3577\u001b[0m in \u001b[1;35mrun_code\u001b[0m\n    exec(code_obj, self.user_global_ns, self.user_ns)\u001b[0m\n",
      "\u001b[0;36m  Cell \u001b[0;32mIn[1], line 1\u001b[0;36m\n\u001b[0;31m    from classes.utils.redis_queries import RedisQueries\u001b[0;36m\n",
      "\u001b[0;36m  File \u001b[0;32m~/assignment/classes/utils/redis_queries.py:55\u001b[0;36m\u001b[0m\n\u001b[0;31m    hash_name = \"word_count\"\u001b[0m\n\u001b[0m    ^\u001b[0m\n\u001b[0;31mIndentationError\u001b[0m\u001b[0;31m:\u001b[0m expected an indented block after function definition on line 54\n"
     ]
    }
   ],
   "source": [
    "from classes.utils.redis_queries import RedisQueries\n",
    "redis_queries = RedisQueries()"
   ]
  },
  {
   "cell_type": "code",
   "execution_count": 20,
   "id": "676ee260-313e-456c-b1ab-6e142f02a387",
   "metadata": {},
   "outputs": [
    {
     "name": "stdout",
     "output_type": "stream",
     "text": [
      "Redis is currently using approximately 162.03 MB of memory.\n"
     ]
    }
   ],
   "source": [
    "redis_queries.show_memory_usage()"
   ]
  },
  {
   "cell_type": "code",
   "execution_count": 8,
   "id": "f9921436-c168-4568-95be-5d89e1d91d84",
   "metadata": {},
   "outputs": [
    {
     "name": "stdout",
     "output_type": "stream",
     "text": [
      "Existing keys in Redis:\n",
      "wikipedia_articles_html\n",
      "prpm_words_html\n",
      "word_count\n"
     ]
    }
   ],
   "source": [
    "redis_queries.show_all_keys()"
   ]
  },
  {
   "cell_type": "code",
   "execution_count": 3,
   "id": "04c73282-3155-437d-8868-18348878d3f5",
   "metadata": {},
   "outputs": [
    {
     "name": "stdin",
     "output_type": "stream",
     "text": [
      "Are you sure you want to delete the entire Redis database? (yes/no):  no\n"
     ]
    },
    {
     "name": "stdout",
     "output_type": "stream",
     "text": [
      "Operation canceled.\n"
     ]
    }
   ],
   "source": [
    "redis_queries.delete_database()"
   ]
  },
  {
   "cell_type": "code",
   "execution_count": 19,
   "id": "f25ac208-32d0-43fa-a536-41137f79e4ad",
   "metadata": {},
   "outputs": [
    {
     "name": "stdout",
     "output_type": "stream",
     "text": [
      "Total words count: 425\n",
      "Top 50 entries from the 'word_count' hash:\n",
      "1. dengan: 196\n",
      "2. yang: 165\n",
      "3. pada: 141\n",
      "4. dan: 134\n",
      "5. the: 134\n",
      "6. rencana: 125\n",
      "7. tokong: 125\n",
      "8. pengenalan: 106\n",
      "9. and: 98\n",
      "10. dalam: 97\n",
      "11. dicapai: 73\n",
      "12. cina: 63\n",
      "13. media: 54\n",
      "14. tentera: 43\n",
      "15. bahasa: 42\n",
      "16. diarkibkan: 41\n",
      "17. laut: 41\n",
      "18. isbn: 40\n",
      "19. untuk: 40\n",
      "20. kong: 36\n",
      "21. ini: 33\n",
      "22. inggeris: 32\n",
      "23. wayback: 31\n",
      "24. tidak: 31\n",
      "25. tua: 29\n",
      "26. history: 29\n",
      "27. daripada: 29\n",
      "28. science: 27\n",
      "29. oleh: 27\n",
      "30. pek: 27\n",
      "31. machine: 26\n",
      "32. tahun: 26\n",
      "33. for: 26\n",
      "34. tasmania: 26\n",
      "35. sebagai: 26\n",
      "36. permainan: 25\n",
      "37. model: 25\n",
      "38. air: 24\n",
      "39. atau: 24\n",
      "40. telah: 24\n",
      "41. syarikat: 23\n",
      "42. nama: 23\n",
      "43. seperti: 23\n",
      "44. teks: 23\n",
      "45. digunakan: 23\n",
      "46. world: 23\n",
      "47. minyak: 22\n",
      "48. freemium: 22\n",
      "49. menggunakan: 22\n",
      "50. pemain: 22\n"
     ]
    }
   ],
   "source": [
    "redis_queries.show_word_count_top_50()"
   ]
  },
  {
   "cell_type": "code",
   "execution_count": null,
   "id": "89c75c1c-edc4-4ba4-a830-94edc7384091",
   "metadata": {},
   "outputs": [],
   "source": [
    "redis_queries.show_word_count_least_50()"
   ]
  },
  {
   "cell_type": "code",
   "execution_count": 10,
   "id": "f5cdf315-86a5-443c-b78b-c5ab752c3684",
   "metadata": {},
   "outputs": [
    {
     "name": "stdout",
     "output_type": "stream",
     "text": [
      "'wikipedia_articles_html' contains 2431 articles.\n",
      "First 10 articles from the 'wikipedia_articles_html' hash (content truncated to 200 characters):\n",
      "1. Title: Giverny\n",
      "   Content: \n",
      "<div class=\"vector-body-before-content\">\n",
      "<div class=\"mw-indicators\">\n",
      "</div>\n",
      "<div class=\"noprint\" id=\"siteSub\">Daripada Wikipedia, ensiklopedia bebas.</div>\n",
      "</div>\n",
      "<div id=\"contentSub\"><div id=\"mw-con...\n",
      "\n",
      "2. Title: Neptunium\n",
      "   Content: \n",
      "<div class=\"vector-body-before-content\">\n",
      "<div class=\"mw-indicators\">\n",
      "</div>\n",
      "<div class=\"noprint\" id=\"siteSub\">Daripada Wikipedia, ensiklopedia bebas.</div>\n",
      "</div>\n",
      "<div id=\"contentSub\"><div id=\"mw-con...\n",
      "\n",
      "3. Title: Paraekuestrian\n",
      "   Content: \n",
      "<div class=\"vector-body-before-content\">\n",
      "<div class=\"mw-indicators\">\n",
      "</div>\n",
      "<div class=\"noprint\" id=\"siteSub\">Daripada Wikipedia, ensiklopedia bebas.</div>\n",
      "</div>\n",
      "<div id=\"contentSub\"><div id=\"mw-con...\n",
      "\n",
      "4. Title: Media massa\n",
      "   Content: \n",
      "<div class=\"vector-body-before-content\">\n",
      "<div class=\"mw-indicators\">\n",
      "</div>\n",
      "<div class=\"noprint\" id=\"siteSub\">Daripada Wikipedia, ensiklopedia bebas.</div>\n",
      "</div>\n",
      "<div id=\"contentSub\"><div id=\"mw-con...\n",
      "\n",
      "5. Title: Tokong Tua Pek Kong, Kuching\n",
      "   Content: \n",
      "<div class=\"vector-body-before-content\">\n",
      "<div class=\"mw-indicators\">\n",
      "</div>\n",
      "<div class=\"noprint\" id=\"siteSub\">Daripada Wikipedia, ensiklopedia bebas.</div>\n",
      "</div>\n",
      "<div id=\"contentSub\"><div id=\"mw-con...\n",
      "\n",
      "6. Title: Jan Tinbergen\n",
      "   Content: \n",
      "<div class=\"vector-body-before-content\">\n",
      "<div class=\"mw-indicators\">\n",
      "</div>\n",
      "<div class=\"noprint\" id=\"siteSub\">Daripada Wikipedia, ensiklopedia bebas.</div>\n",
      "</div>\n",
      "<div id=\"contentSub\"><div id=\"mw-con...\n",
      "\n",
      "7. Title: Scotty and the Secret History of Hollywood\n",
      "   Content: \n",
      "<div class=\"vector-body-before-content\">\n",
      "<div class=\"mw-indicators\">\n",
      "</div>\n",
      "<div class=\"noprint\" id=\"siteSub\">Daripada Wikipedia, ensiklopedia bebas.</div>\n",
      "</div>\n",
      "<div id=\"contentSub\"><div id=\"mw-con...\n",
      "\n",
      "8. Title: Angkatan Udara Tentera Darat Amerika Syarikat\n",
      "   Content: \n",
      "<div class=\"vector-body-before-content\">\n",
      "<div class=\"mw-indicators\">\n",
      "</div>\n",
      "<div class=\"noprint\" id=\"siteSub\">Daripada Wikipedia, ensiklopedia bebas.</div>\n",
      "</div>\n",
      "<div id=\"contentSub\"><div id=\"mw-con...\n",
      "\n",
      "9. Title: Loji penapis minyak\n",
      "   Content: \n",
      "<div class=\"vector-body-before-content\">\n",
      "<div class=\"mw-indicators\">\n",
      "</div>\n",
      "<div class=\"noprint\" id=\"siteSub\">Daripada Wikipedia, ensiklopedia bebas.</div>\n",
      "</div>\n",
      "<div id=\"contentSub\"><div id=\"mw-con...\n",
      "\n",
      "10. Title: Mohd Shahrul Mohd Saad\n",
      "   Content: \n",
      "<div class=\"vector-body-before-content\">\n",
      "<div class=\"mw-indicators\">\n",
      "</div>\n",
      "<div class=\"noprint\" id=\"siteSub\">Daripada Wikipedia, ensiklopedia bebas.</div>\n",
      "</div>\n",
      "<div id=\"contentSub\"><div id=\"mw-con...\n",
      "\n"
     ]
    }
   ],
   "source": [
    "redis_queries.show_wikipedia_articles()"
   ]
  },
  {
   "cell_type": "code",
   "execution_count": 41,
   "id": "2c0cacc7-f05c-48f8-bd84-31fcc7842122",
   "metadata": {},
   "outputs": [
    {
     "name": "stdout",
     "output_type": "stream",
     "text": [
      "'prpm_words_html' contains 4818 words.\n",
      "First 30 words from the 'prpm_words_html' hash (content truncated to 200 characters):\n",
      "1. Word: tong\n",
      "   Content: \n",
      "<div class=\"panel-heading\">\n",
      "<h3 class=\"panel-title\">Maklumat Kata</h3>\n",
      "<span class=\"pull-right clickable\"><i class=\"glyphicon glyphicon-chevron-up\"></i></span>\n",
      "</div>\n",
      "<div class=\"panel-body\">\n",
      "<table ...\n",
      "\n",
      "2. Word: kehakiman\n",
      "   Content: \n",
      "<div class=\"panel-heading\">\n",
      "<h3 class=\"panel-title\">Maklumat Kata</h3>\n",
      "<span class=\"pull-right clickable\"><i class=\"glyphicon glyphicon-chevron-up\"></i></span>\n",
      "</div>\n",
      "<div class=\"panel-body\">\n",
      "<table ...\n",
      "\n",
      "3. Word: ketenteraan\n",
      "   Content: \n",
      "<div class=\"panel-heading\">\n",
      "<h3 class=\"panel-title\">Maklumat Kata</h3>\n",
      "<span class=\"pull-right clickable\"><i class=\"glyphicon glyphicon-chevron-up\"></i></span>\n",
      "</div>\n",
      "<div class=\"panel-body\">\n",
      "<table ...\n",
      "\n",
      "4. Word: rakan\n",
      "   Content: \n",
      "<div class=\"panel-heading\">\n",
      "<h3 class=\"panel-title\">Maklumat Kata</h3>\n",
      "<span class=\"pull-right clickable\"><i class=\"glyphicon glyphicon-chevron-up\"></i></span>\n",
      "</div>\n",
      "<div class=\"panel-body\">\n",
      "<table ...\n",
      "\n",
      "5. Word: ver\n",
      "   Content: ...\n",
      "\n",
      "6. Word: gelaran\n",
      "   Content: \n",
      "<div class=\"panel-heading\">\n",
      "<h3 class=\"panel-title\">Maklumat Kata</h3>\n",
      "<span class=\"pull-right clickable\"><i class=\"glyphicon glyphicon-chevron-up\"></i></span>\n",
      "</div>\n",
      "<div class=\"panel-body\">\n",
      "<table ...\n",
      "\n",
      "7. Word: elemen\n",
      "   Content: \n",
      "<div class=\"panel-heading\">\n",
      "<h3 class=\"panel-title\">Maklumat Kata</h3>\n",
      "<span class=\"pull-right clickable\"><i class=\"glyphicon glyphicon-chevron-up\"></i></span>\n",
      "</div>\n",
      "<div class=\"panel-body\">\n",
      "<table ...\n",
      "\n",
      "8. Word: tasmania\n",
      "   Content: ...\n",
      "\n",
      "9. Word: times\n",
      "   Content: ...\n",
      "\n",
      "10. Word: rard\n",
      "   Content: ...\n",
      "\n",
      "11. Word: ptolemy\n",
      "   Content: ...\n",
      "\n",
      "12. Word: brill\n",
      "   Content: ...\n",
      "\n",
      "13. Word: bolla\n",
      "   Content: ...\n",
      "\n",
      "14. Word: yusof\n",
      "   Content: ...\n",
      "\n",
      "15. Word: movie\n",
      "   Content: ...\n",
      "\n",
      "16. Word: pemalsuan\n",
      "   Content: \n",
      "<div class=\"panel-heading\">\n",
      "<h3 class=\"panel-title\">Maklumat Kata</h3>\n",
      "<span class=\"pull-right clickable\"><i class=\"glyphicon glyphicon-chevron-up\"></i></span>\n",
      "</div>\n",
      "<div class=\"panel-body\">\n",
      "<table ...\n",
      "\n",
      "17. Word: rina\n",
      "   Content: ...\n",
      "\n",
      "18. Word: genom\n",
      "   Content: ...\n",
      "\n",
      "19. Word: languages\n",
      "   Content: ...\n",
      "\n",
      "20. Word: research\n",
      "   Content: ...\n",
      "\n",
      "21. Word: than\n",
      "   Content: ...\n",
      "\n",
      "22. Word: episod\n",
      "   Content: \n",
      "<div class=\"panel-heading\">\n",
      "<h3 class=\"panel-title\">Maklumat Kata</h3>\n",
      "<span class=\"pull-right clickable\"><i class=\"glyphicon glyphicon-chevron-up\"></i></span>\n",
      "</div>\n",
      "<div class=\"panel-body\">\n",
      "<table ...\n",
      "\n",
      "23. Word: papacy\n",
      "   Content: ...\n",
      "\n",
      "24. Word: tokoh\n",
      "   Content: \n",
      "<div class=\"panel-heading\">\n",
      "<h3 class=\"panel-title\">Maklumat Kata</h3>\n",
      "<span class=\"pull-right clickable\"><i class=\"glyphicon glyphicon-chevron-up\"></i></span>\n",
      "</div>\n",
      "<div class=\"panel-body\">\n",
      "<table ...\n",
      "\n",
      "25. Word: berasal\n",
      "   Content: \n",
      "<div class=\"panel-heading\">\n",
      "<h3 class=\"panel-title\">Maklumat Kata</h3>\n",
      "<span class=\"pull-right clickable\"><i class=\"glyphicon glyphicon-chevron-up\"></i></span>\n",
      "</div>\n",
      "<div class=\"panel-body\">\n",
      "<table ...\n",
      "\n",
      "26. Word: baltimore\n",
      "   Content: ...\n",
      "\n",
      "27. Word: diasaskan\n",
      "   Content: ...\n",
      "\n",
      "28. Word: protostom\n",
      "   Content: ...\n",
      "\n",
      "29. Word: coronavirus\n",
      "   Content: ...\n",
      "\n",
      "30. Word: iconic\n",
      "   Content: ...\n",
      "\n"
     ]
    }
   ],
   "source": [
    "redis_queries.show_prpm_words()"
   ]
  },
  {
   "cell_type": "code",
   "execution_count": 3,
   "id": "be016abf-5ce0-4e33-b30a-feace2fd5a44",
   "metadata": {},
   "outputs": [
    {
     "name": "stdout",
     "output_type": "stream",
     "text": [
      "Scanning for words with no content in the 'prpm_words_html' hash...\n",
      "Total words not found: 5272\n",
      "Displaying up to 20 not found words:\n",
      "1. caspar\n",
      "2. gelocidae\n",
      "3. online\n",
      "4. alpine\n",
      "5. arnold\n",
      "6. others\n",
      "7. cave\n",
      "8. rhb\n",
      "9. palestin\n",
      "10. lgbt\n",
      "11. optics\n",
      "12. zarin\n",
      "13. users\n",
      "14. hamidun\n",
      "15. apsny\n",
      "16. school\n",
      "17. sevilla\n",
      "18. spies\n",
      "19. behaviour\n",
      "20. aini\n",
      "...and 5252 more not found words.\n"
     ]
    }
   ],
   "source": [
    "redis_queries.show_not_found_words(limit=20)"
   ]
  },
  {
   "cell_type": "code",
   "execution_count": 4,
   "id": "71f5891c-55ad-4bb7-b2e7-7c2db03bfff5",
   "metadata": {},
   "outputs": [
    {
     "name": "stdout",
     "output_type": "stream",
     "text": [
      "Scanning for words with content in the 'prpm_words_html' hash...\n",
      "Total words found: 3071\n",
      "Displaying up to 20 found words:\n",
      "1. lelaki\n",
      "2. penggunaan\n",
      "3. tetapi\n",
      "4. olimpik\n",
      "5. pandangan\n",
      "6. pandemik\n",
      "7. pengusaha\n",
      "8. karaoke\n",
      "9. lai\n",
      "10. jirim\n",
      "11. neptun\n",
      "12. mungkin\n",
      "13. berita\n",
      "14. kompleks\n",
      "15. berulang\n",
      "16. asian\n",
      "17. mekanisme\n",
      "18. makmal\n",
      "19. kekurangan\n",
      "20. sebelah\n",
      "...and 3051 more found words.\n"
     ]
    }
   ],
   "source": [
    "redis_queries.show_found_words(limit=20)"
   ]
  }
 ],
 "metadata": {
  "kernelspec": {
   "display_name": "de-ass",
   "language": "python",
   "name": "de-ass"
  },
  "language_info": {
   "codemirror_mode": {
    "name": "ipython",
    "version": 3
   },
   "file_extension": ".py",
   "mimetype": "text/x-python",
   "name": "python",
   "nbconvert_exporter": "python",
   "pygments_lexer": "ipython3",
   "version": "3.10.12"
  }
 },
 "nbformat": 4,
 "nbformat_minor": 5
}
