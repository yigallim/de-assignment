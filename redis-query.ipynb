{
 "cells": [
  {
   "cell_type": "code",
   "execution_count": 1,
   "id": "468ce3b7-e2e6-4989-8672-fcacaff3ce4f",
   "metadata": {},
   "outputs": [],
   "source": [
    "from classes.utils.redis_queries import RedisQueries\n",
    "redis_queries = RedisQueries()"
   ]
  },
  {
   "cell_type": "code",
   "execution_count": 2,
   "id": "676ee260-313e-456c-b1ab-6e142f02a387",
   "metadata": {},
   "outputs": [
    {
     "name": "stdout",
     "output_type": "stream",
     "text": [
      "Redis is currently using approximately 200.15 MB of memory.\n"
     ]
    }
   ],
   "source": [
    "redis_queries.show_memory_usage()"
   ]
  },
  {
   "cell_type": "code",
   "execution_count": 3,
   "id": "f9921436-c168-4568-95be-5d89e1d91d84",
   "metadata": {},
   "outputs": [
    {
     "name": "stdout",
     "output_type": "stream",
     "text": [
      "Existing keys in Redis:\n",
      "word_count\n",
      "prpm_words_html\n",
      "wikipedia_articles_html\n",
      "dictionary_api_cache\n"
     ]
    }
   ],
   "source": [
    "redis_queries.show_all_keys()"
   ]
  },
  {
   "cell_type": "code",
   "execution_count": 3,
   "id": "04c73282-3155-437d-8868-18348878d3f5",
   "metadata": {},
   "outputs": [
    {
     "name": "stdin",
     "output_type": "stream",
     "text": [
      "Are you sure you want to delete the entire Redis database? (yes/no):  no\n"
     ]
    },
    {
     "name": "stdout",
     "output_type": "stream",
     "text": [
      "Operation canceled.\n"
     ]
    }
   ],
   "source": [
    "redis_queries.delete_database()"
   ]
  },
  {
   "cell_type": "code",
   "execution_count": 14,
   "id": "f25ac208-32d0-43fa-a536-41137f79e4ad",
   "metadata": {},
   "outputs": [
    {
     "name": "stdout",
     "output_type": "stream",
     "text": [
      "Total words count: 12066\n",
      "Top 20 entries from the 'word_count' hash:\n",
      "1. pada: 31477\n",
      "2. yang: 27189\n",
      "3. dan: 26450\n",
      "4. the: 21659\n",
      "5. dengan: 16563\n",
      "6. dicapai: 14166\n",
      "7. dalam: 13074\n",
      "8. rencana: 9940\n",
      "9. and: 9887\n",
      "10. untuk: 8083\n",
      "11. daripada: 7610\n",
      "12. bahasa: 7342\n",
      "13. ini: 6557\n",
      "14. tahun: 6303\n",
      "15. pengenalan: 6285\n",
      "16. music: 5895\n",
      "17. oleh: 5811\n",
      "18. diarkibkan: 5752\n",
      "19. sebagai: 5600\n",
      "20. dari: 5487\n"
     ]
    }
   ],
   "source": [
    "redis_queries.show_word_count_top(count=20)"
   ]
  },
  {
   "cell_type": "code",
   "execution_count": 13,
   "id": "89c75c1c-edc4-4ba4-a830-94edc7384091",
   "metadata": {},
   "outputs": [
    {
     "name": "stdout",
     "output_type": "stream",
     "text": [
      "Total words count: 12066\n",
      "Least 50 entries from the 'word_count' hash:\n",
      "1. mari: 15\n",
      "2. koe: 15\n",
      "3. dirimu: 15\n",
      "4. dirty: 15\n",
      "5. tonton: 15\n",
      "6. pistol: 15\n",
      "7. bryant: 15\n",
      "8. nee: 15\n",
      "9. pemberi: 15\n",
      "10. neue: 15\n",
      "11. jakun: 15\n",
      "12. capita: 15\n",
      "13. parameswaran: 15\n",
      "14. segambut: 15\n",
      "15. fia: 15\n",
      "16. certifications: 15\n",
      "17. classroom: 15\n",
      "18. menyedari: 15\n",
      "19. pirandello: 15\n",
      "20. feminist: 15\n",
      "21. sigung: 15\n",
      "22. seladang: 15\n",
      "23. marmottan: 15\n",
      "24. memfokuskan: 15\n",
      "25. ochoa: 15\n",
      "26. ala: 15\n",
      "27. serangga: 15\n",
      "28. forestry: 15\n",
      "29. albrecht: 15\n",
      "30. shang: 15\n",
      "31. geoffroanus: 15\n",
      "32. suborder: 15\n",
      "33. dainippon: 15\n",
      "34. kublai: 15\n",
      "35. trinity: 15\n",
      "36. perihal: 15\n",
      "37. majistret: 15\n",
      "38. plat: 15\n",
      "39. mez: 15\n",
      "40. pedersen: 15\n",
      "41. briged: 15\n",
      "42. emergency: 15\n",
      "43. tiktok: 15\n",
      "44. syrmian: 15\n",
      "45. gerbang: 15\n",
      "46. munculnya: 15\n",
      "47. riko: 15\n",
      "48. deaflimpik: 15\n",
      "49. disusuli: 15\n",
      "50. hwi: 15\n"
     ]
    }
   ],
   "source": [
    "redis_queries.show_word_count_least_50()"
   ]
  },
  {
   "cell_type": "code",
   "execution_count": null,
   "id": "4ac39d68-9f1a-40ee-b9a7-ca1eca045215",
   "metadata": {},
   "outputs": [],
   "source": [
    "if False:\n",
    "    redis_queries.show_wikipedia_articles()"
   ]
  },
  {
   "cell_type": "code",
   "execution_count": null,
   "id": "53f65fa5-3134-4bbc-b22c-511b574d3d85",
   "metadata": {},
   "outputs": [],
   "source": [
    "if False:\n",
    "    redis_queries.show_prpm_words()"
   ]
  },
  {
   "cell_type": "code",
   "execution_count": 12,
   "id": "be016abf-5ce0-4e33-b30a-feace2fd5a44",
   "metadata": {},
   "outputs": [
    {
     "name": "stdout",
     "output_type": "stream",
     "text": [
      "Scanning for words with no content in the 'prpm_words_html' hash...\n",
      "Total words not found: 11269\n",
      "Displaying up to 5 not found words:\n",
      "1. terpanjang\n",
      "2. ziemke\n",
      "3. utamanya\n",
      "4. caniformia\n",
      "5. ono\n",
      "...and 11264 more not found words.\n"
     ]
    }
   ],
   "source": [
    "redis_queries.show_not_found_words(limit=5)"
   ]
  },
  {
   "cell_type": "code",
   "execution_count": 11,
   "id": "71f5891c-55ad-4bb7-b2e7-7c2db03bfff5",
   "metadata": {},
   "outputs": [
    {
     "name": "stdout",
     "output_type": "stream",
     "text": [
      "Scanning for words with content in the 'prpm_words_html' hash...\n",
      "Total words found: 5542\n",
      "Displaying up to 5 found words:\n",
      "1. tanggapan\n",
      "2. puncak\n",
      "3. perseorangan\n",
      "4. topografi\n",
      "5. berikutan\n",
      "...and 5537 more found words.\n"
     ]
    }
   ],
   "source": [
    "redis_queries.show_found_words(limit=5)"
   ]
  },
  {
   "cell_type": "code",
   "execution_count": 15,
   "id": "86860e5a-0258-40f7-bd49-fab891e6ad7f",
   "metadata": {},
   "outputs": [
    {
     "name": "stdout",
     "output_type": "stream",
     "text": [
      "Scanning 'wiktionary_api_cache' for words with content...\n",
      "\n",
      "Total words with content: 3577\n",
      "First 5 words with content:\n",
      "1. tanggapan\n",
      "2. perseorangan\n",
      "3. puncak\n",
      "4. mekanik\n",
      "5. kugiran\n",
      "...and 3572 more words with content.\n"
     ]
    }
   ],
   "source": [
    "redis_queries.show_wiktionary_found_words(limit=5)"
   ]
  },
  {
   "cell_type": "code",
   "execution_count": 16,
   "id": "7ac94fef-5dbf-4fce-9236-521a76afd245",
   "metadata": {},
   "outputs": [
    {
     "name": "stdout",
     "output_type": "stream",
     "text": [
      "Scanning 'wiktionary_api_cache' for words with no content...\n",
      "\n",
      "Total words with no content: 1967\n",
      "First 5 words with no content:\n",
      "1. topografi\n",
      "2. berikutan\n",
      "3. parsi\n",
      "4. hindu\n",
      "5. memfokuskan\n",
      "...and 1962 more words with no content.\n"
     ]
    }
   ],
   "source": [
    "redis_queries.show_wiktionary_not_found_words(limit=5)"
   ]
  },
  {
   "cell_type": "code",
   "execution_count": 6,
   "id": "9b0b2f91-e732-49e4-bcba-5c1e03ce985e",
   "metadata": {},
   "outputs": [
    {
     "name": "stdout",
     "output_type": "stream",
     "text": [
      "Scanning the 'dictionary_api_cache' hash for words with and without definitions...\n",
      "\n",
      "Total words with definitions: 4313\n",
      "Total words without definitions: 6956\n",
      "\n",
      "First 5 words with definitions:\n",
      "1. more\n",
      "2. broadway\n",
      "3. lancet\n",
      "4. struggle\n",
      "5. row\n",
      "\n",
      "First 5 words without definitions:\n",
      "1. tanaka\n",
      "2. libertadores\n",
      "3. navratilova\n",
      "4. aishwarya\n",
      "5. arthropoda\n"
     ]
    }
   ],
   "source": [
    "redis_queries.show_dictionary_api_words(limit=5)"
   ]
  },
  {
   "cell_type": "code",
   "execution_count": 3,
   "id": "38b5ab8e-d0cc-475b-8d41-4c59d62397c3",
   "metadata": {},
   "outputs": [
    {
     "name": "stdout",
     "output_type": "stream",
     "text": [
      "Scanning 'gcp_sentiment_cache' for sentiment data... (Filter: en)\n",
      "\n",
      "Total entries found in 'gcp_sentiment_cache' matching filter 'en': 20\n",
      "Displaying up to 20 entries:\n",
      "\n",
      "1. Word: more, Sentiment Magnitude: 0.204, Sentiment Score: -0.057\n",
      "2. Word: broadway, Sentiment Magnitude: 0.263, Sentiment Score: 0.0\n",
      "3. Word: lancet, Sentiment Magnitude: 0.138, Sentiment Score: -0.004\n",
      "4. Word: struggle, Sentiment Magnitude: 0.902, Sentiment Score: -0.822\n",
      "5. Word: miscegenation, Sentiment Magnitude: 0.458, Sentiment Score: -0.377\n",
      "6. Word: row, Sentiment Magnitude: 0.177, Sentiment Score: -0.035\n",
      "7. Word: cable, Sentiment Magnitude: 0.153, Sentiment Score: -0.035\n",
      "8. Word: body, Sentiment Magnitude: 0.223, Sentiment Score: 0.004\n",
      "9. Word: fed, Sentiment Magnitude: 0.165, Sentiment Score: -0.092\n",
      "10. Word: profile, Sentiment Magnitude: 0.061, Sentiment Score: -0.008\n",
      "11. Word: sustained, Sentiment Magnitude: 0.296, Sentiment Score: -0.116\n",
      "12. Word: confederation, Sentiment Magnitude: 0.192, Sentiment Score: -0.045\n",
      "13. Word: kabaddi, Sentiment Magnitude: 0.096, Sentiment Score: 0.023\n",
      "14. Word: definition, Sentiment Magnitude: 0.064, Sentiment Score: -0.003\n",
      "15. Word: tame, Sentiment Magnitude: 0.261, Sentiment Score: -0.143\n",
      "16. Word: willie, Sentiment Magnitude: 0.108, Sentiment Score: 0.032\n",
      "17. Word: outstanding, Sentiment Magnitude: 0.987, Sentiment Score: 0.953\n",
      "18. Word: penny, Sentiment Magnitude: 0.286, Sentiment Score: -0.194\n",
      "19. Word: lib, Sentiment Magnitude: 0.439, Sentiment Score: -0.039\n",
      "20. Word: increasing, Sentiment Magnitude: 0.256, Sentiment Score: -0.067\n"
     ]
    }
   ],
   "source": [
    "redis_queries.show_gcp_sentiment_data(limit=20, lang=\"en\")"
   ]
  }
 ],
 "metadata": {
  "kernelspec": {
   "display_name": "de-ass",
   "language": "python",
   "name": "de-ass"
  },
  "language_info": {
   "codemirror_mode": {
    "name": "ipython",
    "version": 3
   },
   "file_extension": ".py",
   "mimetype": "text/x-python",
   "name": "python",
   "nbconvert_exporter": "python",
   "pygments_lexer": "ipython3",
   "version": "3.10.12"
  }
 },
 "nbformat": 4,
 "nbformat_minor": 5
}
